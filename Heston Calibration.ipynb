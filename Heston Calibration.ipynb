{
 "metadata": {
  "name": "",
  "signature": "sha256:52260d19bd5980f3d5eca26e9fb90aa17a1db9e4e0fd1a463f1147fcf9cb1021"
 },
 "nbformat": 3,
 "nbformat_minor": 0,
 "worksheets": [
  {
   "cells": [
    {
     "cell_type": "code",
     "collapsed": false,
     "input": [
      "import time\n",
      "import numpy as np\n",
      "import pandas as pd\n",
      "import hestonpricer as heston\n",
      "#import blackscholespricer as bs\n",
      "from scipy.stats import norm\n",
      "from scipy import optimize"
     ],
     "language": "python",
     "metadata": {},
     "outputs": [
      {
       "output_type": "stream",
       "stream": "stderr",
       "text": [
        "/Users/matkcy/Documents/MyPython/Ven/lib/python3.3/site-packages/pandas/io/excel.py:626: UserWarning: Installed openpyxl is not supported at this time. Use >=1.6.1 and <2.0.0.\n",
        "  .format(openpyxl_compat.start_ver, openpyxl_compat.stop_ver))\n"
       ]
      }
     ],
     "prompt_number": 1
    },
    {
     "cell_type": "code",
     "collapsed": false,
     "input": [
      "def d_j(j, S, K, r, v, T):\n",
      "    \"\"\"d_j = \\frac{log(\\frac{S}{K})+(r+(-1)^{j-1} \\frac{1}{2}v^2)T}{v sqrt(T)}\"\"\"\n",
      "    return (log(S/K) + (r + ((-1)**(j-1))*0.5*v*v)*T)/(v*(T**0.5))\n",
      "def vanilla_call_price(S, K, r, v, T):\n",
      "    \"\"\"Price of a European call option struck at K, with spot S, constant rate r, constant vol v (over the life of the option) and time to maturity T\"\"\"\n",
      "    return S*norm.cdf(d_j(1, S, K, r, v, T))-K*exp(-r*T) * norm.cdf(d_j(2, S, K, r, v, T))\n",
      "def vanilla_put_price(S, K, r, v, T):\n",
      "    \"\"\"Price of a European put option struck at K, with spot S, constant rate r, constant vol v (over the life of the option) and time to maturity T\"\"\"\n",
      "    return -S*norm.cdf(-d_j(1, S, K, r, v, T))+K*exp(-r*T) * norm.cdf(-d_j(2, S, K, r, v, T))\n",
      "\n"
     ],
     "language": "python",
     "metadata": {},
     "outputs": [],
     "prompt_number": 2
    },
    {
     "cell_type": "code",
     "collapsed": false,
     "input": [
      "# input=market price, output=heston parameters by minimzimg the objective function\n",
      "# output = [lambd, rho, eta, v0, v_bar]\n",
      "def heston_calibration(optiondata):\n",
      "\n",
      "    N = len(optiondata)\n",
      "    \n",
      "    S = optiondata['Spot'].ix[0]\n",
      "    Start_Date = pd.to_datetime(optiondata['dtTrade'].ix[0])\n",
      "    End_Date = pd.to_datetime(optiondata['dtExpiry'].ix[0])\n",
      "    T = (End_Date-Start_Date).days\n",
      "    cost_of_carry = optiondata['iRate'][0]-optiondata['dRate'][0] #\n",
      "    K = optiondata['Strike']\n",
      "    sigma = optiondata['IVMid']\n",
      "    \n",
      "    marketprice = np.zeros(N)\n",
      "\n",
      "    \n",
      "    # build market price from Implied Volatility using Black-Scholes pricer\n",
      "    # build model price using Heston pricer\n",
      "    \n",
      "    for i in range(0,N):\n",
      "        if (optiondata['Type'][i]=='C'):\n",
      "            marketprice[i] = vanilla_call_price(S,K[i],cost_of_carry,sigma[i],T)\n",
      "        if (optiondata['Type'][i]=='P'):\n",
      "            marketprice[i] = vanilla_put_price(S,K[i],cost_of_carry,sigma[i],T)\n",
      "        #modelprice[i] = heston.callprice(S,K,cost_of_carry,T,lambd,rho,eta,v0,v_bar) # in terms of parameters\n",
      "    \n",
      "    \n",
      " \n",
      "        \n",
      "    \n",
      "    # objective function is the root means squared error\n",
      "    sq_err = np.zeros(N) # sum of (market price - model price)**2\n",
      "    def objfunc(params):\n",
      "        lambd, rho, eta, v0, v_bar = params\n",
      "        for i in range(0,N):\n",
      "            #sq_err[i] = (marketprice[i]-heston.callprice(S,K[i],cost_of_carry,T,params[0],params[1],params[2],params[3],params[4]))**2\n",
      "            sq_err[i] = (marketprice[i]-heston.callprice(S,K[i],cost_of_carry,T,lambd,rho,eta,v0,v_bar))**2\n",
      "        return sqrt((1/N)*sq_err.sum())\n",
      "    \n",
      "    # initial values of the parameters\n",
      "    ival=(0,-0.11,0.5, 0.1263, 0.0251) # initial guess\n",
      "    # bounds on each parameter\n",
      "    bounds = ((0,10), (-1,1), (0,5), (0,1), (0,1))\n",
      "    # using optimize.minimize to find optimal values of paramters\n",
      "    output = optimize.minimize(objfunc, ival, method='SLSQP', bounds = bounds, tol=1e-10)\n",
      "    return output\n",
      "    \n",
      "    #return marketprice\n",
      "    #return sqrt((1/N)*sq_err.sum())"
     ],
     "language": "python",
     "metadata": {},
     "outputs": [],
     "prompt_number": 45
    },
    {
     "cell_type": "code",
     "collapsed": false,
     "input": [
      "mydata = pd.read_csv('optiondata.csv')"
     ],
     "language": "python",
     "metadata": {},
     "outputs": [],
     "prompt_number": 46
    },
    {
     "cell_type": "code",
     "collapsed": false,
     "input": [
      "if (mydata['Type'][0]=='C'):\n",
      "    print ('OK')"
     ],
     "language": "python",
     "metadata": {},
     "outputs": [
      {
       "output_type": "stream",
       "stream": "stdout",
       "text": [
        "OK\n"
       ]
      }
     ],
     "prompt_number": 47
    },
    {
     "cell_type": "code",
     "collapsed": false,
     "input": [
      "mydata"
     ],
     "language": "python",
     "metadata": {},
     "outputs": [
      {
       "html": [
        "<div style=\"max-height:1000px;max-width:1500px;overflow:auto;\">\n",
        "<table border=\"1\" class=\"dataframe\">\n",
        "  <thead>\n",
        "    <tr style=\"text-align: right;\">\n",
        "      <th></th>\n",
        "      <th>Unnamed: 0</th>\n",
        "      <th>dtTrade</th>\n",
        "      <th>dtExpiry</th>\n",
        "      <th>Type</th>\n",
        "      <th>iRate</th>\n",
        "      <th>dRate</th>\n",
        "      <th>Spot</th>\n",
        "      <th>Strike</th>\n",
        "      <th>IVMid</th>\n",
        "    </tr>\n",
        "  </thead>\n",
        "  <tbody>\n",
        "    <tr>\n",
        "      <th>0 </th>\n",
        "      <td>  0</td>\n",
        "      <td> 2011-01-24</td>\n",
        "      <td> 2011-02-19</td>\n",
        "      <td> C</td>\n",
        "      <td> 0.006877</td>\n",
        "      <td> 0.038437</td>\n",
        "      <td> 1290.59</td>\n",
        "      <td> 1290</td>\n",
        "      <td> 0.211739</td>\n",
        "    </tr>\n",
        "    <tr>\n",
        "      <th>1 </th>\n",
        "      <td>  1</td>\n",
        "      <td> 2011-01-24</td>\n",
        "      <td> 2011-02-19</td>\n",
        "      <td> C</td>\n",
        "      <td> 0.006877</td>\n",
        "      <td> 0.038437</td>\n",
        "      <td> 1290.59</td>\n",
        "      <td> 1295</td>\n",
        "      <td> 0.208525</td>\n",
        "    </tr>\n",
        "    <tr>\n",
        "      <th>2 </th>\n",
        "      <td>  2</td>\n",
        "      <td> 2011-01-24</td>\n",
        "      <td> 2011-02-19</td>\n",
        "      <td> C</td>\n",
        "      <td> 0.006877</td>\n",
        "      <td> 0.038437</td>\n",
        "      <td> 1290.59</td>\n",
        "      <td> 1300</td>\n",
        "      <td> 0.199840</td>\n",
        "    </tr>\n",
        "    <tr>\n",
        "      <th>3 </th>\n",
        "      <td>  3</td>\n",
        "      <td> 2011-01-24</td>\n",
        "      <td> 2011-02-19</td>\n",
        "      <td> C</td>\n",
        "      <td> 0.006877</td>\n",
        "      <td> 0.038437</td>\n",
        "      <td> 1290.59</td>\n",
        "      <td> 1305</td>\n",
        "      <td> 0.201870</td>\n",
        "    </tr>\n",
        "    <tr>\n",
        "      <th>4 </th>\n",
        "      <td>  4</td>\n",
        "      <td> 2011-01-24</td>\n",
        "      <td> 2011-02-19</td>\n",
        "      <td> C</td>\n",
        "      <td> 0.006877</td>\n",
        "      <td> 0.038437</td>\n",
        "      <td> 1290.59</td>\n",
        "      <td> 1310</td>\n",
        "      <td> 0.198349</td>\n",
        "    </tr>\n",
        "    <tr>\n",
        "      <th>5 </th>\n",
        "      <td>  5</td>\n",
        "      <td> 2011-01-24</td>\n",
        "      <td> 2011-02-19</td>\n",
        "      <td> C</td>\n",
        "      <td> 0.006877</td>\n",
        "      <td> 0.038437</td>\n",
        "      <td> 1290.59</td>\n",
        "      <td> 1315</td>\n",
        "      <td> 0.194776</td>\n",
        "    </tr>\n",
        "    <tr>\n",
        "      <th>6 </th>\n",
        "      <td>  6</td>\n",
        "      <td> 2011-01-24</td>\n",
        "      <td> 2011-02-19</td>\n",
        "      <td> C</td>\n",
        "      <td> 0.006877</td>\n",
        "      <td> 0.038437</td>\n",
        "      <td> 1290.59</td>\n",
        "      <td> 1320</td>\n",
        "      <td> 0.191525</td>\n",
        "    </tr>\n",
        "    <tr>\n",
        "      <th>7 </th>\n",
        "      <td>  7</td>\n",
        "      <td> 2011-01-24</td>\n",
        "      <td> 2011-02-19</td>\n",
        "      <td> C</td>\n",
        "      <td> 0.006877</td>\n",
        "      <td> 0.038437</td>\n",
        "      <td> 1290.59</td>\n",
        "      <td> 1325</td>\n",
        "      <td> 0.184037</td>\n",
        "    </tr>\n",
        "    <tr>\n",
        "      <th>8 </th>\n",
        "      <td>  8</td>\n",
        "      <td> 2011-01-24</td>\n",
        "      <td> 2011-02-19</td>\n",
        "      <td> C</td>\n",
        "      <td> 0.006877</td>\n",
        "      <td> 0.038437</td>\n",
        "      <td> 1290.59</td>\n",
        "      <td> 1330</td>\n",
        "      <td> 0.187543</td>\n",
        "    </tr>\n",
        "    <tr>\n",
        "      <th>9 </th>\n",
        "      <td>  9</td>\n",
        "      <td> 2011-01-24</td>\n",
        "      <td> 2011-02-19</td>\n",
        "      <td> C</td>\n",
        "      <td> 0.006877</td>\n",
        "      <td> 0.038437</td>\n",
        "      <td> 1290.59</td>\n",
        "      <td> 1335</td>\n",
        "      <td> 0.184678</td>\n",
        "    </tr>\n",
        "    <tr>\n",
        "      <th>10</th>\n",
        "      <td> 10</td>\n",
        "      <td> 2011-01-24</td>\n",
        "      <td> 2011-02-19</td>\n",
        "      <td> C</td>\n",
        "      <td> 0.006877</td>\n",
        "      <td> 0.038437</td>\n",
        "      <td> 1290.59</td>\n",
        "      <td> 1340</td>\n",
        "      <td> 0.177893</td>\n",
        "    </tr>\n",
        "    <tr>\n",
        "      <th>11</th>\n",
        "      <td> 11</td>\n",
        "      <td> 2011-01-24</td>\n",
        "      <td> 2011-02-19</td>\n",
        "      <td> C</td>\n",
        "      <td> 0.006877</td>\n",
        "      <td> 0.038437</td>\n",
        "      <td> 1290.59</td>\n",
        "      <td> 1345</td>\n",
        "      <td> 0.179524</td>\n",
        "    </tr>\n",
        "    <tr>\n",
        "      <th>12</th>\n",
        "      <td> 12</td>\n",
        "      <td> 2011-01-24</td>\n",
        "      <td> 2011-02-19</td>\n",
        "      <td> C</td>\n",
        "      <td> 0.006877</td>\n",
        "      <td> 0.038437</td>\n",
        "      <td> 1290.59</td>\n",
        "      <td> 1350</td>\n",
        "      <td> 0.180102</td>\n",
        "    </tr>\n",
        "  </tbody>\n",
        "</table>\n",
        "</div>"
       ],
       "metadata": {},
       "output_type": "pyout",
       "prompt_number": 48,
       "text": [
        "    Unnamed: 0     dtTrade    dtExpiry Type     iRate     dRate     Spot  \\\n",
        "0            0  2011-01-24  2011-02-19    C  0.006877  0.038437  1290.59   \n",
        "1            1  2011-01-24  2011-02-19    C  0.006877  0.038437  1290.59   \n",
        "2            2  2011-01-24  2011-02-19    C  0.006877  0.038437  1290.59   \n",
        "3            3  2011-01-24  2011-02-19    C  0.006877  0.038437  1290.59   \n",
        "4            4  2011-01-24  2011-02-19    C  0.006877  0.038437  1290.59   \n",
        "5            5  2011-01-24  2011-02-19    C  0.006877  0.038437  1290.59   \n",
        "6            6  2011-01-24  2011-02-19    C  0.006877  0.038437  1290.59   \n",
        "7            7  2011-01-24  2011-02-19    C  0.006877  0.038437  1290.59   \n",
        "8            8  2011-01-24  2011-02-19    C  0.006877  0.038437  1290.59   \n",
        "9            9  2011-01-24  2011-02-19    C  0.006877  0.038437  1290.59   \n",
        "10          10  2011-01-24  2011-02-19    C  0.006877  0.038437  1290.59   \n",
        "11          11  2011-01-24  2011-02-19    C  0.006877  0.038437  1290.59   \n",
        "12          12  2011-01-24  2011-02-19    C  0.006877  0.038437  1290.59   \n",
        "\n",
        "    Strike     IVMid  \n",
        "0     1290  0.211739  \n",
        "1     1295  0.208525  \n",
        "2     1300  0.199840  \n",
        "3     1305  0.201870  \n",
        "4     1310  0.198349  \n",
        "5     1315  0.194776  \n",
        "6     1320  0.191525  \n",
        "7     1325  0.184037  \n",
        "8     1330  0.187543  \n",
        "9     1335  0.184678  \n",
        "10    1340  0.177893  \n",
        "11    1345  0.179524  \n",
        "12    1350  0.180102  "
       ]
      }
     ],
     "prompt_number": 48
    },
    {
     "cell_type": "code",
     "collapsed": false,
     "input": [
      "start = time.time()\n",
      "output=heston_calibration(mydata)\n",
      "end = time.time()\n",
      "print (end-start)"
     ],
     "language": "python",
     "metadata": {},
     "outputs": [
      {
       "output_type": "stream",
       "stream": "stdout",
       "text": [
        "15.528903007507324\n"
       ]
      }
     ],
     "prompt_number": 49
    },
    {
     "cell_type": "code",
     "collapsed": false,
     "input": [
      "output"
     ],
     "language": "python",
     "metadata": {},
     "outputs": [
      {
       "metadata": {},
       "output_type": "pyout",
       "prompt_number": 50,
       "text": [
        "     jac: array([  6.08765221e+00,   8.06262779e+00,   3.86238098e-05,\n",
        "         3.38554382e-05,   0.00000000e+00,   0.00000000e+00])\n",
        "     nit: 72\n",
        "    nfev: 542\n",
        " message: 'Optimization terminated successfully.'\n",
        "    njev: 72\n",
        "       x: array([  4.08021034e-16,  -1.00000000e+00,   1.05324906e+00,\n",
        "         2.94665658e-01,   3.54771756e-01])\n",
        " success: True\n",
        "     fun: 17.608136172115032\n",
        "  status: 0"
       ]
      }
     ],
     "prompt_number": 50
    },
    {
     "cell_type": "code",
     "collapsed": false,
     "input": [
      "heston.callprice(100,100,0.05,1,1, -0.3, 0.3, 0.15**2, 0.2**2)"
     ],
     "language": "python",
     "metadata": {},
     "outputs": [
      {
       "metadata": {},
       "output_type": "pyout",
       "prompt_number": 33,
       "text": [
        "array(6.375158210432487)"
       ]
      }
     ],
     "prompt_number": 33
    },
    {
     "cell_type": "code",
     "collapsed": false,
     "input": [
      "bounds = [(0,2), (0,2)]"
     ],
     "language": "python",
     "metadata": {},
     "outputs": [],
     "prompt_number": 42
    },
    {
     "cell_type": "code",
     "collapsed": false,
     "input": [
      "bounds"
     ],
     "language": "python",
     "metadata": {},
     "outputs": [
      {
       "metadata": {},
       "output_type": "pyout",
       "prompt_number": 43,
       "text": [
        "[(0, 2), (0, 2)]"
       ]
      }
     ],
     "prompt_number": 43
    },
    {
     "cell_type": "code",
     "collapsed": false,
     "input": [
      "def myfunc(par):\n",
      "    return (par[0]-1)**2+(par[1]-2)**2"
     ],
     "language": "python",
     "metadata": {},
     "outputs": [],
     "prompt_number": 73
    },
    {
     "cell_type": "code",
     "collapsed": false,
     "input": [
      "ival = (4,0)\n",
      "bounds = ((1.103,5),(4,5))\n",
      "out=optimize.minimize(myfunc, ival, method='SLSQP', bounds = bounds, tol=1e-10)\n",
      "out.x"
     ],
     "language": "python",
     "metadata": {},
     "outputs": [
      {
       "metadata": {},
       "output_type": "pyout",
       "prompt_number": 146,
       "text": [
        "array([ 1.103,  4.   ])"
       ]
      }
     ],
     "prompt_number": 146
    },
    {
     "cell_type": "code",
     "collapsed": false,
     "input": [],
     "language": "python",
     "metadata": {},
     "outputs": [],
     "prompt_number": 141
    },
    {
     "cell_type": "code",
     "collapsed": false,
     "input": [],
     "language": "python",
     "metadata": {},
     "outputs": []
    }
   ],
   "metadata": {}
  }
 ]
}